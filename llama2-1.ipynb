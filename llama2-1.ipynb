{
 "cells": [
  {
   "cell_type": "code",
   "execution_count": 2,
   "metadata": {},
   "outputs": [
    {
     "name": "stdout",
     "output_type": "stream",
     "text": [
      "Writing app.py\n"
     ]
    }
   ],
   "source": [
    "%%writefile app.py\n",
    "import streamlit as st\n",
    "import replicate\n",
    "import os\n",
    "\n",
    "# App title\n",
    "st.set_page_config(page_title=\"vinayak-Ebook🦙Llama 2 bot\")\n",
    "\n",
    "# Replicate Credentials\n",
    "with st.sidebar:\n",
    "    st.title('vinayak-Ebook🦙Llama 2 bot')\n",
    "    if 'REPLICATE_API_TOKEN' in st.secrets:\n",
    "        st.success('API key already provided!', icon='✅')\n",
    "        replicate_api = st.secrets['REPLICATE_API_TOKEN']\n",
    "    else:\n",
    "        replicate_api = st.text_input('Enter Replicate API token:', type='password')\n",
    "        if not (replicate_api.startswith('r8_') and len(replicate_api)==40):\n",
    "            st.warning('Please enter your credentials!', icon='⚠️')\n",
    "        else:\n",
    "            st.success('Proceed to entering your prompt message!', icon='👉')\n",
    "    os.environ['REPLICATE_API_TOKEN'] = replicate_api\n",
    "\n",
    "    st.subheader('Models and parameters')\n",
    "    selected_model = st.sidebar.selectbox('Choose a Llama2 model', ['Llama2-7B', 'Llama2-13B'], key='selected_model')\n",
    "    if selected_model == 'Llama2-7B':\n",
    "        llm = 'a16z-infra/llama7b-v2-chat:4f0a4744c7295c024a1de15e1a63c880d3da035fa1f49bfd344fe076074c8eea'\n",
    "    elif selected_model == 'Llama2-13B':\n",
    "        llm = 'a16z-infra/llama13b-v2-chat:df7690f1994d94e96ad9d568eac121aecf50684a0b0963b25a41cc40061269e5'\n",
    "    temperature = st.sidebar.slider('temperature', min_value=0.01, max_value=5.0, value=0.1, step=0.01)\n",
    "    top_p = st.sidebar.slider('top_p', min_value=0.01, max_value=1.0, value=0.9, step=0.01)\n",
    "    max_length = st.sidebar.slider('max_length', min_value=32, max_value=128, value=120, step=8)\n",
    "    st.markdown('📖 Learn more on [blog](https://coding4vinayak.github.io/2024/01/29/vinayak-ebook-llama2-bot.html)!')\n",
    "\n",
    "# Store LLM generated responses\n",
    "if \"messages\" not in st.session_state.keys():\n",
    "    st.session_state.messages = [{\"role\": \"assistant\", \"content\": \"How may I assist you today?\"}]\n",
    "\n",
    "# Display or clear chat messages\n",
    "for message in st.session_state.messages:\n",
    "    with st.chat_message(message[\"role\"]):\n",
    "        st.write(message[\"content\"])\n",
    "\n",
    "def clear_chat_history():\n",
    "    st.session_state.messages = [{\"role\": \"assistant\", \"content\": \"How may I assist you today?\"}]\n",
    "st.sidebar.button('Clear Chat History', on_click=clear_chat_history)\n",
    "\n",
    "\n",
    "def generate_llama2_response(prompt_input):\n",
    "    string_dialogue = \"You are a helpful assistant. You do not respond as 'User' or pretend to be 'User'. You only respond once as 'Assistant'.\"\n",
    "    for dict_message in st.session_state.messages:\n",
    "        if dict_message[\"role\"] == \"user\":\n",
    "            string_dialogue += \"User: \" + dict_message[\"content\"] + \"\\n\\n\"\n",
    "        else:\n",
    "            string_dialogue += \"Assistant: \" + dict_message[\"content\"] + \"\\n\\n\"\n",
    "    output = replicate.run('a16z-infra/llama13b-v2-chat:df7690f1994d94e96ad9d568eac121aecf50684a0b0963b25a41cc40061269e5', \n",
    "                           input={\"prompt\": f\"{string_dialogue} {prompt_input} Assistant: \",\n",
    "                                  \"temperature\":temperature, \"top_p\":top_p, \"max_length\":max_length, \"repetition_penalty\":1})\n",
    "    return output\n",
    "\n",
    "# User-provided prompt\n",
    "if prompt := st.chat_input(disabled=not replicate_api):\n",
    "    st.session_state.messages.append({\"role\": \"user\", \"content\": prompt})\n",
    "    with st.chat_message(\"user\"):\n",
    "        st.write(prompt)\n",
    "\n",
    "# Generate a new response if last message is not from assistant\n",
    "if st.session_state.messages[-1][\"role\"] != \"assistant\":\n",
    "    with st.chat_message(\"assistant\"):\n",
    "        with st.spinner(\"Thinking...\"):\n",
    "            response = generate_llama2_response(prompt)\n",
    "            placeholder = st.empty()\n",
    "            full_response = ''\n",
    "            for item in response:\n",
    "                full_response += item\n",
    "                placeholder.markdown(full_response)\n",
    "            placeholder.markdown(full_response)\n",
    "    message = {\"role\": \"assistant\", \"content\": full_response}\n",
    "    st.session_state.messages.append(message)"
   ]
  }
 ],
 "metadata": {
  "kernelspec": {
   "display_name": "Python 3",
   "language": "python",
   "name": "python3"
  },
  "language_info": {
   "codemirror_mode": {
    "name": "ipython",
    "version": 3
   },
   "file_extension": ".py",
   "mimetype": "text/x-python",
   "name": "python",
   "nbconvert_exporter": "python",
   "pygments_lexer": "ipython3",
   "version": "3.10.13"
  }
 },
 "nbformat": 4,
 "nbformat_minor": 2
}
